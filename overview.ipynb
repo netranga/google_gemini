{
 "cells": [
  {
   "cell_type": "code",
   "execution_count": 1,
   "metadata": {},
   "outputs": [
    {
     "name": "stderr",
     "output_type": "stream",
     "text": [
      "/Users/netraranga/Desktop/Projects/google_gemini/myenv/lib/python3.9/site-packages/urllib3/__init__.py:35: NotOpenSSLWarning: urllib3 v2 only supports OpenSSL 1.1.1+, currently the 'ssl' module is compiled with 'LibreSSL 2.8.3'. See: https://github.com/urllib3/urllib3/issues/3020\n",
      "  warnings.warn(\n",
      "/Users/netraranga/Desktop/Projects/google_gemini/myenv/lib/python3.9/site-packages/tqdm/auto.py:21: TqdmWarning: IProgress not found. Please update jupyter and ipywidgets. See https://ipywidgets.readthedocs.io/en/stable/user_install.html\n",
      "  from .autonotebook import tqdm as notebook_tqdm\n"
     ]
    }
   ],
   "source": [
    "import os\n",
    "import time\n",
    "import google.generativeai as genai\n",
    "from dotenv import load_dotenv\n",
    "from google.generativeai import caching\n",
    "import datetime\n",
    "import pandas as pd\n",
    "import PyPDF2\n",
    "import os\n",
    "from reportlab.pdfgen import canvas\n",
    "from reportlab.lib.pagesizes import letter\n",
    "from io import BytesIO"
   ]
  },
  {
   "cell_type": "markdown",
   "metadata": {},
   "source": [
    "##Add a description of this step here"
   ]
  },
  {
   "cell_type": "code",
   "execution_count": 2,
   "metadata": {},
   "outputs": [],
   "source": [
    "load_dotenv('/Users/netraranga/Desktop/Projects/.env')\n",
    "genai.configure(api_key=os.environ['GOOGLE_API_KEY'])"
   ]
  },
  {
   "cell_type": "code",
   "execution_count": 3,
   "metadata": {},
   "outputs": [],
   "source": [
    "# import pandas as pd\n",
    "syllabus_df = pd.read_csv('syllabus_vf.csv')\n",
    "syllabus_df_1 = syllabus_df.rename(columns={'Unnamed: 0':'Week', 'Unnamed: 1':'Lecture'}).drop(columns=['Deliverables', 'Additional Document Name'])"
   ]
  },
  {
   "cell_type": "code",
   "execution_count": 4,
   "metadata": {},
   "outputs": [],
   "source": [
    "youtube_df = pd.read_csv('youtube_playlist_contents.csv')\n",
    "youtube_df['Lecture'] = youtube_df.index + 1"
   ]
  },
  {
   "cell_type": "code",
   "execution_count": 58,
   "metadata": {},
   "outputs": [
    {
     "name": "stdout",
     "output_type": "stream",
     "text": [
      "Transcript for Lecture 1 written to /Users/netraranga/Desktop/Projects/google_gemini/docs/transcripts/lecture_1_transcript.txt\n",
      "Transcript for Lecture 2 written to /Users/netraranga/Desktop/Projects/google_gemini/docs/transcripts/lecture_2_transcript.txt\n",
      "Transcript for Lecture 3 written to /Users/netraranga/Desktop/Projects/google_gemini/docs/transcripts/lecture_3_transcript.txt\n",
      "Transcript for Lecture 4 written to /Users/netraranga/Desktop/Projects/google_gemini/docs/transcripts/lecture_4_transcript.txt\n",
      "Transcript for Lecture 5 written to /Users/netraranga/Desktop/Projects/google_gemini/docs/transcripts/lecture_5_transcript.txt\n",
      "Transcript for Lecture 6 written to /Users/netraranga/Desktop/Projects/google_gemini/docs/transcripts/lecture_6_transcript.txt\n",
      "Transcript for Lecture 7 written to /Users/netraranga/Desktop/Projects/google_gemini/docs/transcripts/lecture_7_transcript.txt\n",
      "Transcript for Lecture 8 written to /Users/netraranga/Desktop/Projects/google_gemini/docs/transcripts/lecture_8_transcript.txt\n",
      "Transcript for Lecture 9 written to /Users/netraranga/Desktop/Projects/google_gemini/docs/transcripts/lecture_9_transcript.txt\n",
      "Transcript for Lecture 10 written to /Users/netraranga/Desktop/Projects/google_gemini/docs/transcripts/lecture_10_transcript.txt\n",
      "Transcript for Lecture 11 written to /Users/netraranga/Desktop/Projects/google_gemini/docs/transcripts/lecture_11_transcript.txt\n",
      "Transcript for Lecture 12 written to /Users/netraranga/Desktop/Projects/google_gemini/docs/transcripts/lecture_12_transcript.txt\n",
      "Transcript for Lecture 13 written to /Users/netraranga/Desktop/Projects/google_gemini/docs/transcripts/lecture_13_transcript.txt\n",
      "Transcript for Lecture 14 written to /Users/netraranga/Desktop/Projects/google_gemini/docs/transcripts/lecture_14_transcript.txt\n",
      "Transcript for Lecture 15 written to /Users/netraranga/Desktop/Projects/google_gemini/docs/transcripts/lecture_15_transcript.txt\n",
      "Transcript for Lecture 16 written to /Users/netraranga/Desktop/Projects/google_gemini/docs/transcripts/lecture_16_transcript.txt\n",
      "Transcript for Lecture 17 written to /Users/netraranga/Desktop/Projects/google_gemini/docs/transcripts/lecture_17_transcript.txt\n",
      "Transcript for Lecture 18 written to /Users/netraranga/Desktop/Projects/google_gemini/docs/transcripts/lecture_18_transcript.txt\n",
      "Transcript for Lecture 19 written to /Users/netraranga/Desktop/Projects/google_gemini/docs/transcripts/lecture_19_transcript.txt\n"
     ]
    }
   ],
   "source": [
    "def write_transcripts_to_files(df):\n",
    "    # Create the directory if it doesn't exist\n",
    "    output_dir = '/Users/netraranga/Desktop/Projects/google_gemini/docs/transcripts'\n",
    "    os.makedirs(output_dir, exist_ok=True)\n",
    "    \n",
    "    # Iterate through each row in the dataframe\n",
    "    for index, row in df.iterrows():\n",
    "        # Create a filename based on the lecture number\n",
    "        filename = f\"lecture_{row['Lecture']}_transcript.txt\"\n",
    "        file_path = os.path.join(output_dir, filename)\n",
    "        \n",
    "        # Write the video contents to the file\n",
    "        with open(file_path, 'w', encoding='utf-8') as file:\n",
    "            file.write(row['Video Contents'])\n",
    "        \n",
    "        print(f\"Transcript for Lecture {row['Lecture']} written to {file_path}\")\n",
    "\n",
    "# Call the function with your dataframe\n",
    "write_transcripts_to_files(youtube_df)\n"
   ]
  },
  {
   "cell_type": "code",
   "execution_count": 33,
   "metadata": {},
   "outputs": [
    {
     "name": "stdout",
     "output_type": "stream",
     "text": [
      "PDFs merged successfully for em. Output file: /Users/netraranga/Desktop/Projects/google_gemini/docs/consolidated/combined_em_slides.pdf\n",
      "PDFs merged successfully for decisiontrees. Output file: /Users/netraranga/Desktop/Projects/google_gemini/docs/consolidated/combined_decisiontrees_slides.pdf\n",
      "PDFs merged successfully for pca. Output file: /Users/netraranga/Desktop/Projects/google_gemini/docs/consolidated/combined_pca_slides.pdf\n",
      "PDFs merged successfully for ridge. Output file: /Users/netraranga/Desktop/Projects/google_gemini/docs/consolidated/combined_ridge_slides.pdf\n",
      "PDFs merged successfully for fairness. Output file: /Users/netraranga/Desktop/Projects/google_gemini/docs/consolidated/combined_fairness_slides.pdf\n",
      "PDFs merged successfully for privacy. Output file: /Users/netraranga/Desktop/Projects/google_gemini/docs/consolidated/combined_privacy_slides.pdf\n",
      "PDFs merged successfully for kmeans. Output file: /Users/netraranga/Desktop/Projects/google_gemini/docs/consolidated/combined_kmeans_slides.pdf\n",
      "PDFs merged successfully for bias. Output file: /Users/netraranga/Desktop/Projects/google_gemini/docs/consolidated/combined_bias_slides.pdf\n",
      "PDFs merged successfully for lasso. Output file: /Users/netraranga/Desktop/Projects/google_gemini/docs/consolidated/combined_lasso_slides.pdf\n",
      "PDFs merged successfully for explainability. Output file: /Users/netraranga/Desktop/Projects/google_gemini/docs/consolidated/combined_explainability_slides.pdf\n"
     ]
    }
   ],
   "source": [
    "def create_title_page(title):\n",
    "    packet = BytesIO()\n",
    "    can = canvas.Canvas(packet, pagesize=letter)\n",
    "    can.setFont(\"Helvetica\", 24)\n",
    "    can.drawString(100, 400, title)\n",
    "    can.save()\n",
    "    packet.seek(0)\n",
    "    return PyPDF2.PdfReader(packet)\n",
    "\n",
    "def merge_annotated_slides(combined_annotated_slides):\n",
    "    docs_folder = '/Users/netraranga/Desktop/Projects/google_gemini/docs'\n",
    "    consolidated_folder = os.path.join(docs_folder, 'consolidated')\n",
    "\n",
    "    output_files = []\n",
    "    \n",
    "    for base_name in combined_annotated_slides:\n",
    "        merger = PyPDF2.PdfMerger()\n",
    "        original_file = os.path.join(docs_folder, f\"{base_name}.pdf\")\n",
    "        annotated_file = os.path.join(docs_folder, f\"{base_name}_annotated.pdf\")\n",
    "        \n",
    "        # Add title page and original slides\n",
    "        original_title = create_title_page(f\"Original {base_name} Slides\")\n",
    "        merger.append(original_title)\n",
    "        merger.append(original_file)\n",
    "        \n",
    "        # Add title page and annotated slides\n",
    "        annotated_title = create_title_page(f\"Annotated {base_name} Slides\")\n",
    "        merger.append(annotated_title)\n",
    "        merger.append(annotated_file)\n",
    "        \n",
    "        # Output PDF file name\n",
    "        output_pdf = os.path.join(consolidated_folder, f'combined_{base_name}_slides.pdf')\n",
    "        \n",
    "        try:\n",
    "            merger.write(output_pdf)\n",
    "            print(f\"PDFs merged successfully for {base_name}. Output file: {output_pdf}\")\n",
    "            output_files.append(output_pdf)\n",
    "        except Exception as e:\n",
    "            print(f\"Error writing output file for {base_name}: {str(e)}\")\n",
    "        finally:\n",
    "            merger.close()\n",
    "    \n",
    "    return output_files\n",
    "\n",
    "#Get list of files that need to be consolidated\n",
    "combined_annotated_slides = []\n",
    "for file_path in os.listdir('/Users/netraranga/Desktop/Projects/google_gemini/docs'):\n",
    "      if 'annotated' in file_path:\n",
    "            combined_annotated_slides.append(file_path.split('_')[0])\n",
    "\n",
    "# Usage\n",
    "output_files = merge_annotated_slides(combined_annotated_slides)"
   ]
  },
  {
   "cell_type": "code",
   "execution_count": 18,
   "metadata": {},
   "outputs": [],
   "source": [
    "###Order of files - use only lectures and annotated slides\n",
    "lecture_1 = '/Users/netraranga/Desktop/Projects/google_gemini/docs/transcripts/lecture_1_transcript.txt'\n",
    "file_1 = genai.upload_file(path=lecture_1)\n",
    "\n",
    "lecture_2 = '/Users/netraranga/Desktop/Projects/google_gemini/docs/transcripts/lecture_2_transcript.txt'\n",
    "file_2 = genai.upload_file(path=lecture_2)\n",
    "\n",
    "# lin_alg_notes = '/Users/netraranga/Desktop/Projects/google_gemini/docs/linalg_notes.pdf'\n",
    "# file_3 = genai.upload_file(path=lin_alg_notes)\n",
    "\n",
    "# lin_alg_slides = '/Users/netraranga/Desktop/Projects/google_gemini/docs/linalg_slides.pdf'\n",
    "# file_3_1 = genai.upload_file(path=lin_alg_slides)\n",
    "\n",
    "lecture_3 = '/Users/netraranga/Desktop/Projects/google_gemini/docs/transcripts/lecture_3_transcript.txt'\n",
    "file_4 = genai.upload_file(path=lecture_3)\n",
    "\n",
    "lecture_4 = '/Users/netraranga/Desktop/Projects/google_gemini/docs/transcripts/lecture_4_transcript.txt'\n",
    "file_5 = genai.upload_file(path=lecture_4)\n",
    "\n",
    "# probs_notes = '/Users/netraranga/Desktop/Projects/google_gemini/docs/prob_notes.pdf'\n",
    "# file_6 = genai.upload_file(path=probs_notes)\n",
    "\n",
    "# probs_slides = '/Users/netraranga/Desktop/Projects/google_gemini/docs/prob_slides.pdf'\n",
    "# file_6_1 = genai.upload_file(path=probs_slides)\n",
    "\n",
    "lecture_5 = '/Users/netraranga/Desktop/Projects/google_gemini/docs/transcripts/lecture_5_transcript.txt'\n",
    "file_7 = genai.upload_file(path=lecture_5)\n",
    "\n",
    "lecture_6 = '/Users/netraranga/Desktop/Projects/google_gemini/docs/transcripts/lecture_6_transcript.txt'\n",
    "file_8 = genai.upload_file(path=lecture_6)\n",
    "\n",
    "# numpy_slides = '/Users/netraranga/Desktop/Projects/google_gemini/docs/numpy_slides.pdf'\n",
    "# file_9 = genai.upload_file(path=numpy_slides)\n",
    "\n",
    "lecture_7 = '/Users/netraranga/Desktop/Projects/google_gemini/docs/transcripts/lecture_7_transcript.txt'\n",
    "file_10 = genai.upload_file(path=lecture_7)\n",
    "\n",
    "lecture_8 = '/Users/netraranga/Desktop/Projects/google_gemini/docs/transcripts/lecture_8_transcript.txt'\n",
    "file_11 = genai.upload_file(path=lecture_8)\n",
    "\n",
    "eval_slides = '/Users/netraranga/Desktop/Projects/google_gemini/docs/eval_slides.pdf'\n",
    "file_12 = genai.upload_file(path=eval_slides)\n",
    "\n",
    "lecture_9 = '/Users/netraranga/Desktop/Projects/google_gemini/docs/transcripts/lecture_9_transcript.txt'\n",
    "file_13 = genai.upload_file(path=lecture_9)\n",
    "\n",
    "lecture_10 = '/Users/netraranga/Desktop/Projects/google_gemini/docs/transcripts/lecture_10_transcript.txt'\n",
    "file_14 = genai.upload_file(path=lecture_10)\n",
    "\n",
    "bias_slides = '/Users/netraranga/Desktop/Projects/google_gemini/docs/bias_annotated.pdf'\n",
    "file_15 = genai.upload_file(path=bias_slides)\n",
    "\n",
    "ridge_slides = '/Users/netraranga/Desktop/Projects/google_gemini/docs/ridge_annotated.pdf'\n",
    "file_16 = genai.upload_file(path=ridge_slides)\n",
    "\n",
    "lasso_slides = '/Users/netraranga/Desktop/Projects/google_gemini/docs/lasso_annotated.pdf'\n",
    "file_17 = genai.upload_file(path=lasso_slides)\n",
    "\n",
    "midterm_review = '/Users/netraranga/Desktop/Projects/google_gemini/docs/midterm_review.pdf'\n",
    "file_18 = genai.upload_file(path=midterm_review)\n",
    "\n",
    "lecture_11 = '/Users/netraranga/Desktop/Projects/google_gemini/docs/transcripts/lecture_11_transcript.txt'\n",
    "file_19 = genai.upload_file(path=lecture_11)\n",
    "\n",
    "boosting_slides = '/Users/netraranga/Desktop/Projects/google_gemini/docs/boosting.pdf'\n",
    "file_20 = genai.upload_file(path=boosting_slides)\n",
    "\n",
    "decision_trees_slides = '/Users/netraranga/Desktop/Projects/google_gemini/docs/decisiontrees_annotated.pdf'\n",
    "file_21 = genai.upload_file(path=decision_trees_slides)\n",
    "\n",
    "# decision_trees_overfitting = '/Users/netraranga/Desktop/Projects/google_gemini/docs/decisiontrees_overfitting.pdf'\n",
    "# file_22 = genai.upload_file(path=decision_trees_overfitting)\n",
    "\n",
    "lecture_12 = '/Users/netraranga/Desktop/Projects/google_gemini/docs/transcripts/lecture_12_transcript.txt'\n",
    "file_23 = genai.upload_file(path=lecture_12)\n",
    "\n",
    "lecture_13 = '/Users/netraranga/Desktop/Projects/google_gemini/docs/transcripts/lecture_13_transcript.txt'\n",
    "file_24 = genai.upload_file(path=lecture_13)\n",
    "\n",
    "kmeans_slides = '/Users/netraranga/Desktop/Projects/google_gemini/docs/kmeans_annotated.pdf'\n",
    "file_25 = genai.upload_file(path=kmeans_slides)\n",
    "\n",
    "em_slides = '/Users/netraranga/Desktop/Projects/google_gemini/docs/em_annotated.pdf'\n",
    "file_26 = genai.upload_file(path=em_slides)\n",
    "\n",
    "pca_slides = '/Users/netraranga/Desktop/Projects/google_gemini/docs/pca_annotated.pdf'\n",
    "file_27 = genai.upload_file(path=pca_slides)\n",
    "\n",
    "lecture_14 = '/Users/netraranga/Desktop/Projects/google_gemini/docs/transcripts/lecture_14_transcript.txt'\n",
    "file_28 = genai.upload_file(path=lecture_14)\n",
    "\n",
    "lecture_15 = '/Users/netraranga/Desktop/Projects/google_gemini/docs/transcripts/lecture_15_transcript.txt'\n",
    "file_29 = genai.upload_file(path=lecture_15)\n",
    "\n",
    "# ml_advice = '/Users/netraranga/Desktop/Projects/google_gemini/docs/ml_advice.pdf'\n",
    "# file_30 = genai.upload_file(path=ml_advice)\n",
    "\n",
    "lecture_16 = '/Users/netraranga/Desktop/Projects/google_gemini/docs/transcripts/lecture_16_transcript.txt'\n",
    "file_31 = genai.upload_file(path=lecture_16)\n",
    "\n",
    "learning_slides = '/Users/netraranga/Desktop/Projects/google_gemini/docs/learning.pdf'\n",
    "file_32 = genai.upload_file(path=learning_slides)\n",
    "\n",
    "lecture_17 = '/Users/netraranga/Desktop/Projects/google_gemini/docs/transcripts/lecture_17_transcript.txt'\n",
    "file_33 = genai.upload_file(path=lecture_17)\n",
    "\n",
    "lecture_18 = '/Users/netraranga/Desktop/Projects/google_gemini/docs/transcripts/lecture_18_transcript.txt'\n",
    "file_34 = genai.upload_file(path=lecture_18)\n",
    "\n",
    "lecture_19 = '/Users/netraranga/Desktop/Projects/google_gemini/docs/transcripts/lecture_19_transcript.txt'\n",
    "file_35 = genai.upload_file(path=lecture_19)\n",
    "\n",
    "fairness_slides = '/Users/netraranga/Desktop/Projects/google_gemini/docs/fairness_annotated.pdf'\n",
    "file_36 = genai.upload_file(path=fairness_slides)\n",
    "\n",
    "privacy_slides = '/Users/netraranga/Desktop/Projects/google_gemini/docs/privacy_annotated.pdf'\n",
    "file_37 = genai.upload_file(path=privacy_slides)\n",
    "\n",
    "explanation_slides = '/Users/netraranga/Desktop/Projects/google_gemini/docs/explainability_annotated.pdf'\n",
    "file_38 = genai.upload_file(path=explanation_slides)\n",
    "\n",
    "textbook = '/Users/netraranga/Desktop/Projects/google_gemini/docs/textbook.pdf'\n",
    "file_39 = genai.upload_file(path=textbook)"
   ]
  },
  {
   "cell_type": "code",
   "execution_count": null,
   "metadata": {},
   "outputs": [],
   "source": [
    "contents = [file_1, file_2, file_4, file_5, file_7, file_8, file_10, file_11, file_12, file_13, file_14, file_15, file_16, file_17, file_18, file_19, file_20, file_21, file_23, file_24, file_25, file_26, file_27, file_28, file_29, file_31, file_32, file_33, file_34, file_35, file_36, file_37, file_38, file_39]"
   ]
  },
  {
   "cell_type": "code",
   "execution_count": 75,
   "metadata": {},
   "outputs": [],
   "source": [
    "### System Prompt\n",
    "system_prompt = \"\"\"You are an expert tutor specializing in machine learning, with comprehensive knowledge of the Stanford CS229 \"Introduction to Machine Learning\" course. You have access to all relevant materials, including:\n",
    "- Annotated and regular lecture notes for each session.\n",
    "- Transcripts of all recorded lectures.\n",
    "- The complete course textbook.\n",
    "Your role is to guide the user through the CS229 course material by:\n",
    "1. **Providing clear, detailed explanations** of key machine learning concepts and algorithms, from foundational topics like linear regression and classification to advanced areas such as support vector machines and unsupervised learning.\n",
    "2. **Connecting course concepts**, explaining how different topics (e.g., gradient descent, regularization) relate and build upon each other across lectures.\n",
    "3. **Summarizing lectures and sections**, highlighting major takeaways, essential equations, and conceptual insights.\n",
    "4. **Supporting exam preparation**, identifying high-impact topics, common pitfalls, and suggesting areas for further review.\"\"\"\n"
   ]
  },
  {
   "cell_type": "code",
   "execution_count": 76,
   "metadata": {},
   "outputs": [],
   "source": [
    "cache_content = caching.CachedContent.create(\n",
    "    model='models/gemini-1.5-flash-001',\n",
    "    display_name='textbook',\n",
    "    system_instruction=(\n",
    "    system_prompt),\n",
    "    contents=[file_39],\n",
    "    ttl=datetime.timedelta(minutes=10)\n",
    ")"
   ]
  },
  {
   "cell_type": "code",
   "execution_count": 72,
   "metadata": {},
   "outputs": [],
   "source": [
    "cache_content = caching.CachedContent.create(\n",
    "    model='models/gemini-1.5-flash-001',\n",
    "    display_name='lecture transcripts and notes',\n",
    "    system_instruction=(\n",
    "    'You are an expert at machine learning concepts and linear algebra. Your job is to serve as a personal tutor for the user. You will be given a files with notes on machine learning concepts and transcripts of live lectures. You will be asked a variety of questions, some about specific concepts and others about how concepts are related to each other based on the notes provided.'\n",
    "),\n",
    "    contents=[file_1, file_2, file_4, file_5, file_7, file_8, file_10, file_11, file_12, file_13, file_14, file_15, file_16, file_17, file_18, file_19, file_20, file_21, file_23, file_24, file_25, file_26, file_27, file_28, file_29, file_31, file_32, file_33, file_34, file_35, file_36, file_39],\n",
    "    ttl=datetime.timedelta(minutes=10)\n",
    ")"
   ]
  },
  {
   "cell_type": "code",
   "execution_count": 77,
   "metadata": {},
   "outputs": [
    {
     "name": "stdout",
     "output_type": "stream",
     "text": [
      "prompt_token_count: 181816\n",
      "candidates_token_count: 543\n",
      "total_token_count: 182359\n",
      "cached_content_token_count: 181763\n",
      "\n",
      "CS229 is a comprehensive introductory course to machine learning that delves deep into the mathematical foundations and practical applications of the field. While there are other machine learning courses available, CS229 stands out for several reasons:\n",
      "\n",
      "**1. Mathematical Rigor:** CS229 emphasizes a strong mathematical understanding of machine learning concepts. This provides a deep foundation for understanding how algorithms work and how to develop new ones.\n",
      "\n",
      "**2. Broad Coverage:** The course covers a wide range of machine learning topics, from supervised learning methods like linear regression and classification, to unsupervised learning techniques like clustering and dimensionality reduction. It also touches upon advanced areas such as kernel methods, support vector machines, and deep learning.\n",
      "\n",
      "**3. Practical Applications:** The course doesn't just focus on theory; it also demonstrates how machine learning algorithms can be applied to real-world problems. This is achieved through lectures, assignments, and guest lectures from leading industry practitioners.\n",
      "\n",
      "**4. Exam Preparation:** The course material is well-structured and includes numerous practice problems, helping students prepare for the exams effectively.\n",
      "\n",
      "**Key Concepts Timeline:**\n",
      "\n",
      "**Week 1-2:** Introduction to Supervised Learning, Linear Regression, Gradient Descent, Normal Equations.\n",
      "\n",
      "**Week 3-4:** Classification and Logistic Regression, Probabilistic Interpretation of Linear Regression, Generalized Linear Models, Exponential Family, Softmax Regression.\n",
      "\n",
      "**Week 5-6:** Generative Learning, Gaussian Discriminant Analysis, Naive Bayes, Kernel Methods, Support Vector Machines, Lagrange Duality.\n",
      "\n",
      "**Week 7-8:** Deep Learning, Neural Networks, Backpropagation, Vectorization, Convolutional Neural Networks, Recurrent Neural Networks.\n",
      "\n",
      "**Week 9-10:** Generalization and Regularization, Bias-Variance Tradeoff, Model Selection, Cross-Validation, Bayesian Statistics, Unsupervised Learning, Clustering, k-means Algorithm.\n",
      "\n",
      "**Week 11-12:** Expectation Maximization Algorithm, Mixture of Gaussians, Principal Component Analysis, Independent Component Analysis.\n",
      "\n",
      "**Week 13-14:** Reinforcement Learning, Markov Decision Processes, Value Iteration, Policy Iteration, Linear Quadratic Regulator, Differential Dynamic Programming, Partially Observable Markov Decision Processes, Policy Gradient Methods.\n",
      "\n",
      "**Week 15-16:** Foundation Models, Pretraining and Adaptation, Self-Supervised Learning, Generative Pre-training, Contrastive Learning, Large Language Models, Zero-Shot Learning, In-context Learning.\n",
      "\n",
      "This timeline is a general overview, and the specific order of concepts covered may vary slightly depending on the instructor and year. However, it provides a good framework for understanding the flow of concepts throughout the course.\n",
      "\n"
     ]
    }
   ],
   "source": [
    "# Construct a GenerativeModel which uses the created cache\n",
    "model = genai.GenerativeModel.from_cached_content(cached_content=cache_content)\n",
    "\n",
    "# Query the model\n",
    "response = model.generate_content([(\n",
    "    'Give me an overview on this course - what makes it stand out from other Machine Learning courses? Create a timeline of key concepts that are covered over the duration of the course. Ensure your responses are grounded in the course content and do not generate a fake timeline.')])\n",
    "\n",
    "print(response.usage_metadata)\n",
    "print(response.text)"
   ]
  },
  {
   "cell_type": "code",
   "execution_count": 49,
   "metadata": {},
   "outputs": [
    {
     "name": "stdout",
     "output_type": "stream",
     "text": [
      "prompt_token_count: 500823\n",
      "candidates_token_count: 265\n",
      "total_token_count: 501088\n",
      "cached_content_token_count: 500794\n",
      "\n",
      "Here are some key concepts covered in the KMeans lecture that are not covered in the notes:\n",
      "\n",
      "* **The discussion on the convergence properties of the algorithm:**  The lecture emphasizes the algorithm's convergence to a local minimum, pointing out that the algorithm will always terminate due to the monotonically decreasing nature of the distance function.\n",
      "* **KMeans++ initialization:** The lecture describes the algorithm as a way to improve the approximation ratio by computing a density estimation and placing the centers with respect to the density to spread them out in a nice way. \n",
      "* **Practical considerations of KMeans:** The lecture acknowledges that there is no one right answer for selecting the number of clusters (K) and that it often requires a modeling decision and domain knowledge. \n",
      "* **Visual intuition for the algorithm:** The lecture uses a lot of visual examples to help understand the behavior of the algorithm, like visualizing the steps where cluster centers move, the case of local minimums, and how different initializations affect the results. \n",
      "* **KMeans as a tool for inspecting data:**  The lecture hints that KMeans can be used to inspect data for potential hidden stratification, where a model may have misclassified data points. This isn't specifically mentioned in the notes, but it's a common application of the algorithm. \n",
      "\n"
     ]
    }
   ],
   "source": [
    "response = model.generate_content([(\n",
    "    'What are some key concepts covered in the KMeans lecture that are not covered in the notes? Be very specific in the points you generate.')])\n",
    "\n",
    "print(response.usage_metadata)\n",
    "print(response.text)"
   ]
  },
  {
   "cell_type": "code",
   "execution_count": 73,
   "metadata": {},
   "outputs": [
    {
     "name": "stdout",
     "output_type": "stream",
     "text": [
      "CachedContent(\n",
      "    name='cachedContents/96m75bq632ty',\n",
      "    model='models/gemini-1.5-flash-001',\n",
      "    display_name='lecture transcripts and notes',\n",
      "    usage_metadata={\n",
      "        'total_token_count': 650903,\n",
      "    },\n",
      "    create_time=2024-10-26 21:20:08.961391+00:00,\n",
      "    update_time=2024-10-26 21:20:08.961391+00:00,\n",
      "    expire_time=2024-10-26 21:30:07.246272+00:00\n",
      ")\n"
     ]
    }
   ],
   "source": [
    "for c in caching.CachedContent.list():\n",
    "  print(c)"
   ]
  },
  {
   "cell_type": "code",
   "execution_count": 71,
   "metadata": {},
   "outputs": [],
   "source": [
    "# for c in caching.CachedContent.list():\n",
    "#   print(c) #Slide 1 to 15 are 166273 tokens\n",
    "  #Slide 1 to 38 are 500798\n",
    "\n",
    "for c in caching.CachedContent.list():\n",
    "    c.delete()"
   ]
  },
  {
   "cell_type": "code",
   "execution_count": null,
   "metadata": {},
   "outputs": [],
   "source": [
    "### TO ODO\n",
    "#-combines all of the slide contents into one file so it passes the cache min size limit\n",
    "#Determine with chatgpt what are good questions - study guides on certain lectures and concepts\n",
    "#Identify the differece between annotated notes and regular notes\n",
    "#Create a study guide that is grounded in the lecture nad pulls additional key concepts from the notes\n",
    "#Generate some python questions for certain lectures for the application piece \n",
    "#Watch a certain video and see if the LLM can retrieve the specific fact or instnce referenced in the video"
   ]
  }
 ],
 "metadata": {
  "kernelspec": {
   "display_name": "Python 3",
   "language": "python",
   "name": "python3"
  },
  "language_info": {
   "codemirror_mode": {
    "name": "ipython",
    "version": 3
   },
   "file_extension": ".py",
   "mimetype": "text/x-python",
   "name": "python",
   "nbconvert_exporter": "python",
   "pygments_lexer": "ipython3",
   "version": "3.9.6"
  }
 },
 "nbformat": 4,
 "nbformat_minor": 2
}
